{
 "cells": [
  {
   "cell_type": "code",
   "execution_count": 24,
   "id": "2075ef56",
   "metadata": {},
   "outputs": [],
   "source": [
    "import src.DetectingRegionInfo as DetectingRegionInfo\n",
    "import src.DopplerInfo as DopplerInfo\n",
    "\n",
    "import src.LinesGenerator as LinesGenerator\n",
    "import src.WAndDopplerGenerator as WAndDopplerGenerator\n",
    "import src.FeaturesAndLabelsGenerator as FeaturesAndLabelsGenerator\n",
    "\n",
    "import src.Config as Config\n",
    "from matplotlib.patches import Polygon\n",
    "import matplotlib.pyplot as plt\n",
    "\n",
    "# create info structs from config\n",
    "detecting_region_info = DetectingRegionInfo.DetectingRegionInfo(\n",
    "    Config.transmittor_position, Config.receiver_position_1, Config.receiver_position_2, Config.receiver_position_3)\n",
    "doppler_info = DopplerInfo.DopplerInfo(Config.c, Config.fc, Config.v)"
   ]
  },
  {
   "cell_type": "code",
   "execution_count": 25,
   "id": "47d3e1dd",
   "metadata": {},
   "outputs": [],
   "source": [
    "def visualize_lines(detecting_region_info, lines):\n",
    "    _, ax = plt.subplots()\n",
    "    ax.set_xlim(0, 300)\n",
    "    ax.set_ylim(0, 150)\n",
    "    ax.add_patch(Polygon([detecting_region_info.v1,\n",
    "                 detecting_region_info.v2, detecting_region_info.v4, detecting_region_info.v3], fill=False))\n",
    "\n",
    "    # Plot the lines\n",
    "    for i in range(len(lines)):\n",
    "        line = lines[i]\n",
    "        ax.plot([point[0] for point in line], [point[1]\n",
    "                for point in line], \"r\")\n",
    "\n",
    "    plt.show()\n"
   ]
  },
  {
   "cell_type": "code",
   "execution_count": null,
   "id": "689d53ca",
   "metadata": {},
   "outputs": [],
   "source": [
    "# training features and labels\n",
    "\n",
    "[lines_a, lines_b] = LinesGenerator.generateLines(\n",
    "    detecting_region_info=detecting_region_info,\n",
    "    a_b_distance=Config.a_b_distance,\n",
    "    num_of_lines_to_generate=Config.train_num_of_lines_to_generate,\n",
    "    step_count_per_line=Config.step_count_per_line,\n",
    "    length_per_step=Config.length_per_step,\n",
    "    angle_change_limit_per_step=Config.angle_change_limit_per_step\n",
    ")\n",
    "\n",
    "[w, doppler] = WAndDopplerGenerator.generateWAndDoppler(\n",
    "    detecting_region_info=detecting_region_info,\n",
    "    doppler_info=doppler_info,\n",
    "    lines_a=lines_a,\n",
    "    lines_b=lines_b\n",
    ")\n",
    "\n",
    "[train_features, train_labels] = FeaturesAndLabelsGenerator.generateFeaturesAndLabels(\n",
    "    detecting_region_info=detecting_region_info,\n",
    "    lines_a=lines_a,\n",
    "    w=w,\n",
    "    doppler=doppler,\n",
    "    num_of_lines_to_generate=Config.train_num_of_lines_to_generate,\n",
    "    step_count_per_line=Config.step_count_per_line\n",
    ")\n",
    "\n",
    "train_features = train_features[:, -1, :]\n",
    "# torch.Size([100, 5, 6] -> torch.Size([100, 6])\n",
    "\n",
    "visualize_lines(detecting_region_info, lines_a)"
   ]
  },
  {
   "cell_type": "code",
   "execution_count": null,
   "id": "e4d902f6",
   "metadata": {},
   "outputs": [],
   "source": [
    "# short testing features and labels\n",
    "\n",
    "[lines_a, lines_b] = LinesGenerator.generateLines(\n",
    "    detecting_region_info=detecting_region_info,\n",
    "    a_b_distance=Config.a_b_distance,\n",
    "    num_of_lines_to_generate=Config.test_set_short_num,\n",
    "    step_count_per_line=Config.step_count_per_line,\n",
    "    length_per_step=Config.length_per_step,\n",
    "    angle_change_limit_per_step=Config.angle_change_limit_per_step\n",
    ")\n",
    "\n",
    "[w, doppler] = WAndDopplerGenerator.generateWAndDoppler(\n",
    "    detecting_region_info=detecting_region_info,\n",
    "    doppler_info=doppler_info,\n",
    "    lines_a=lines_a,\n",
    "    lines_b=lines_b\n",
    ")\n",
    "\n",
    "[test_short_features, test_short_labels] = FeaturesAndLabelsGenerator.generateFeaturesAndLabels(\n",
    "    detecting_region_info=detecting_region_info,\n",
    "    lines_a=lines_a,\n",
    "    w=w,\n",
    "    doppler=doppler,\n",
    "    num_of_lines_to_generate=Config.test_set_short_num,\n",
    "    step_count_per_line=Config.step_count_per_line\n",
    ")\n",
    "\n",
    "test_short_features = test_short_features[:, -1, :]\n",
    "\n",
    "visualize_lines(detecting_region_info, lines_a)"
   ]
  },
  {
   "cell_type": "code",
   "execution_count": null,
   "id": "823c5b96",
   "metadata": {},
   "outputs": [],
   "source": [
    "import torch\n",
    "\n",
    "# train_features.shape, train_labels.shape\n",
    "\n",
    "# make train_features and train_labels into a dataset\n",
    "device = torch.device('cuda' if torch.cuda.is_available() else 'cpu')\n",
    "\n",
    "dataset = {}\n",
    "dataset['train_input'] = torch.tensor(train_features, dtype=torch.float64).to(device)\n",
    "dataset['test_input'] = torch.tensor(test_short_features, dtype=torch.float64).to(device)\n",
    "\n",
    "dataset['train_label'] = torch.tensor(train_labels, dtype=torch.float64).to(device)\n",
    "dataset['test_label'] = torch.tensor(test_short_labels, dtype=torch.float64).to(device)\n",
    "\n",
    "# (torch.Size([100, 5, 6]), torch.Size([100, 2]))\n",
    "dataset['train_input'].shape, dataset['train_label'].shape\n"
   ]
  },
  {
   "cell_type": "code",
   "execution_count": null,
   "id": "f1d07c70",
   "metadata": {},
   "outputs": [],
   "source": [
    "from src.kan import *\n",
    "torch.set_default_dtype(torch.float64)\n",
    "\n",
    "device = torch.device('cuda' if torch.cuda.is_available() else 'cpu')\n",
    "print(device)\n",
    "\n",
    "# create a KAN: 2D inputs, 1D output, and 5 hidden neurons. cubic spline (k=3), 5 grid intervals (grid=5).\n",
    "model = KAN(width=[6,5,2], grid=3, k=3, seed=42, device=device)"
   ]
  },
  {
   "cell_type": "code",
   "execution_count": null,
   "id": "ac76f858",
   "metadata": {},
   "outputs": [],
   "source": [
    "# plot KAN at initialization\n",
    "model(dataset['train_input'])\n",
    "model.plot()"
   ]
  },
  {
   "cell_type": "code",
   "execution_count": null,
   "id": "97111d75",
   "metadata": {},
   "outputs": [],
   "source": [
    "# train the model\n",
    "model.fit(dataset, opt=\"LBFGS\", steps=50, lamb=0.001)"
   ]
  },
  {
   "cell_type": "code",
   "execution_count": null,
   "id": "92a4f67a",
   "metadata": {},
   "outputs": [],
   "source": [
    "model.plot()"
   ]
  },
  {
   "cell_type": "code",
   "execution_count": null,
   "id": "7fe6fb12",
   "metadata": {},
   "outputs": [],
   "source": [
    "model = model.prune()\n",
    "model.plot()"
   ]
  },
  {
   "cell_type": "code",
   "execution_count": null,
   "id": "18a2db11",
   "metadata": {},
   "outputs": [],
   "source": [
    "model.fit(dataset, opt=\"LBFGS\", steps=50)"
   ]
  },
  {
   "cell_type": "code",
   "execution_count": null,
   "id": "8768d56c",
   "metadata": {},
   "outputs": [],
   "source": [
    "model = model.refine(10)"
   ]
  },
  {
   "cell_type": "code",
   "execution_count": null,
   "id": "46f73098",
   "metadata": {},
   "outputs": [],
   "source": [
    "model.fit(dataset, opt=\"LBFGS\", steps=50)"
   ]
  },
  {
   "cell_type": "markdown",
   "id": "cf35d505",
   "metadata": {},
   "source": [
    "Automatically or manually set activation functions to be symbolic"
   ]
  },
  {
   "cell_type": "code",
   "execution_count": null,
   "id": "b3c0642b",
   "metadata": {},
   "outputs": [],
   "source": [
    "mode = \"auto\" # \"manual\"\n",
    "\n",
    "if mode == \"manual\":\n",
    "    # manual mode\n",
    "    model.fix_symbolic(0,0,0,'sin')\n",
    "    model.fix_symbolic(0,1,0,'x^2')\n",
    "    model.fix_symbolic(1,0,0,'exp')\n",
    "elif mode == \"auto\":\n",
    "    # automatic mode\n",
    "    lib = ['x','x^2','x^3','x^4','exp','log','sqrt','tanh','sin','abs']\n",
    "    model.auto_symbolic(lib=lib)"
   ]
  },
  {
   "cell_type": "code",
   "execution_count": null,
   "id": "c0800415",
   "metadata": {},
   "outputs": [],
   "source": [
    "model.fit(dataset, opt=\"LBFGS\", steps=50)"
   ]
  },
  {
   "cell_type": "code",
   "execution_count": null,
   "id": "bf44f7e0",
   "metadata": {},
   "outputs": [],
   "source": [
    "from src.kan.utils import ex_round\n",
    "\n",
    "ex_round(model.symbolic_formula()[0][0],4)"
   ]
  }
 ],
 "metadata": {
  "kernelspec": {
   "display_name": "pykan",
   "language": "python",
   "name": "python3"
  },
  "language_info": {
   "codemirror_mode": {
    "name": "ipython",
    "version": 3
   },
   "file_extension": ".py",
   "mimetype": "text/x-python",
   "name": "python",
   "nbconvert_exporter": "python",
   "pygments_lexer": "ipython3",
   "version": "3.9.19"
  }
 },
 "nbformat": 4,
 "nbformat_minor": 5
}
